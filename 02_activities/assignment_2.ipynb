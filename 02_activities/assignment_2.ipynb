{
 "cells": [
  {
   "cell_type": "markdown",
   "metadata": {},
   "source": [
    "The task requires implementing a function that checks for duplicate values in a binary tree. The function should return 1 if a duplicate is found and 0 if there are no duplicates. Essentially, we are asked to traverse the binary tree, keeping track of the node values we encounter to detect any repetitions.\n",
    "Example:"
   ]
  },
  {
   "cell_type": "code",
   "execution_count": null,
   "metadata": {},
   "outputs": [],
   "source": []
  },
  {
   "cell_type": "code",
   "execution_count": null,
   "metadata": {},
   "outputs": [],
   "source": [
    "15\n",
    "       /  \\\n",
    "     10    25\n",
    "           /\n",
    "         10"
   ]
  },
  {
   "cell_type": "markdown",
   "metadata": {},
   "source": [
    "In this tree:\n",
    "\n",
    "1. The root node has a value of 15.\n",
    "\n",
    "\n",
    "2. The left child of the root is 10.\n",
    "\n",
    "\n",
    "3. The right child is 25, which has a left child with the value 10."
   ]
  },
  {
   "cell_type": "code",
   "execution_count": 1,
   "metadata": {},
   "outputs": [],
   "source": [
    "class TreeNode:\n",
    "    def init(self, val=0, left=None, right=None):\n",
    "        self.val = val\n",
    "        self.left = left\n",
    "        self.right = right\n",
    "\n",
    "def is_duplicate(root: TreeNode) -> int:\n",
    "    # Helper function for DFS traversal\n",
    "    def dfs(node, seen_values):\n",
    "        if not node:\n",
    "            return False\n",
    "        \n",
    "        # Check if the value has already been seen\n",
    "        if node.val in seen_values:\n",
    "            return True\n",
    "        \n",
    "        # Add current node's value to the set\n",
    "        seen_values.add(node.val)\n",
    "        \n",
    "        # Recur for left and right subtrees\n",
    "        return dfs(node.left, seen_values) or dfs(node.right, seen_values)\n",
    "    \n",
    "    # Set to store the values we have encountered during the DFS\n",
    "    seen_values = set()\n",
    "    \n",
    "    # Start DFS from the root\n",
    "    return 1 if dfs(root, seen_values) else 0"
   ]
  },
  {
   "cell_type": "markdown",
   "metadata": {},
   "source": [
    "Explain why their solution works in your own words.\n",
    "\n",
    "The solution works by performing a Depth-First Search (DFS) traversal of the binary tree. During the traversal, it keeps track of the values it has encountered using a set. If it encounters a value that has already been seen, it returns 1 to indicate that a duplicate exists. If the entire tree is traversed without finding duplicates, it returns 0.\n",
    "\n",
    "\n",
    "Explain the problem’s time and space complexity in your own words.\n",
    "\n",
    "The time complexity of the solution is , where  is the number of nodes in the tree. This is because each node is visited exactly once during the DFS traversal. The space complexity is also  due to the set used to store the values encountered during the traversal, which can store up to  unique values in the worst case.\n",
    "\n",
    "\n",
    "Critique your partner's solution, including explanation, and if there is anything that should be adjusted.\n",
    "\n",
    "The solution is clear and effective, using DFS and a set to detect duplicates in the tree. The main criticism is that the recursive DFS approach could be improved by using an iterative approach to avoid potential stack overflow in case of a very deep tree. Other than that, the implementation is efficient and solves the problem correctly.\n",
    "\n",
    "\n",
    "Reflection\n",
    "\n",
    "This assignment provided a good opportunity to practice code review and problem-solving. By reviewing my partner's solution, I was able to see how DFS can be applied to tree problems and how to track values using a set. The process also helped me understand how to analyze time and space complexity effectively."
   ]
  },
  {
   "cell_type": "code",
   "execution_count": 1,
   "metadata": {},
   "outputs": [
    {
     "name": "stdout",
     "output_type": "stream",
     "text": [
      "Closest duplicate: 10\n"
     ]
    }
   ],
   "source": [
    "class TreeNode:\n",
    "    def __init__(self, val=0, left=None, right=None):\n",
    "        self.val = val\n",
    "        self.left = left\n",
    "        self.right = right\n",
    "\n",
    "def find_closest_duplicate(root: TreeNode) -> int:\n",
    "    \"\"\"\n",
    "    This function finds the closest duplicate in a binary tree.\n",
    "    It returns the closest duplicate if found, or -1 if no duplicates exist.\n",
    "    \"\"\"\n",
    "    def dfs(node, seen_values, closest_dup):\n",
    "        if not node:\n",
    "            return closest_dup\n",
    "        \n",
    "        # If the value has been seen before, check if it is closer\n",
    "        if node.val in seen_values:\n",
    "            closest_dup = min(closest_dup, node.val)\n",
    "        \n",
    "        # Add the current value to the set\n",
    "        seen_values.add(node.val)\n",
    "        \n",
    "        # Recur for left and right subtrees\n",
    "        closest_dup = dfs(node.left, seen_values, closest_dup)\n",
    "        closest_dup = dfs(node.right, seen_values, closest_dup)\n",
    "        \n",
    "        return closest_dup\n",
    "    \n",
    "    # Set to store the unique values encountered\n",
    "    seen_values = set()\n",
    "    closest_dup = float('inf')  # Initially set to infinity\n",
    "\n",
    "    # Start DFS from the root of the tree\n",
    "    result = dfs(root, seen_values, closest_dup)\n",
    "\n",
    "    # If no duplicates were found, return -1\n",
    "    return result if result != float('inf') else -1\n",
    "\n",
    "# Create a tree for testing\n",
    "root = TreeNode(15)\n",
    "root.left = TreeNode(10)\n",
    "root.right = TreeNode(25)\n",
    "root.right.left = TreeNode(10)\n",
    "\n",
    "# Find the closest duplicate\n",
    "result = find_closest_duplicate(root)\n",
    "print(f\"Closest duplicate: {result}\")  # Expected output: 10"
   ]
  },
  {
   "cell_type": "markdown",
   "metadata": {},
   "source": [
    "Q2: Explanation of using vanilla DFS and checking for duplicates in the list lst = [1, 2, 3, 4, 5, 3, 7, 4].\n",
    "\n",
    "Using vanilla DFS (without sets or hash maps), the goal is to compare each element with the previously encountered values. However, in this case, if we only check each element once without storing them, we will not catch duplicates. The expected output for lst = [1, 2, 3, 4, 5, 3, 7, 4] is True, since there are duplicates (3 and 4).\n",
    "\n",
    "Here’s an example of how vanilla DFS would fail without tracking the previously seen values:"
   ]
  },
  {
   "cell_type": "code",
   "execution_count": 2,
   "metadata": {},
   "outputs": [
    {
     "name": "stdout",
     "output_type": "stream",
     "text": [
      "Contains duplicates: True\n"
     ]
    }
   ],
   "source": [
    "def vanilla_dfs(lst):\n",
    "    # Simple DFS without tracking previous values (incorrect approach)\n",
    "    for i in range(len(lst)):\n",
    "        for j in range(i+1, len(lst)):\n",
    "            if lst[i] == lst[j]:\n",
    "                return True\n",
    "    return False\n",
    "\n",
    "# Testing with the list\n",
    "lst = [1, 2, 3, 4, 5, 3, 7, 4]\n",
    "result = vanilla_dfs(lst)\n",
    "print(f\"Contains duplicates: {result}\")  # Expected output: True"
   ]
  },
  {
   "cell_type": "markdown",
   "metadata": {},
   "source": [
    "Summary:\n",
    "\n",
    "1. For the task to find the closest duplicate in the tree: The provided solution finds the closest duplicate correctly by using DFS and tracking the seen values.\n",
    "\n",
    "\n",
    "2. For the task of vanilla DFS in lists: The explanation shows that without tracking previous values, vanilla DFS would miss duplicates, but the corrected DFS approach finds duplicates by keeping track of encountered values."
   ]
  }
 ],
 "metadata": {
  "kernelspec": {
   "display_name": "dsi_participant",
   "language": "python",
   "name": "python3"
  },
  "language_info": {
   "codemirror_mode": {
    "name": "ipython",
    "version": 3
   },
   "file_extension": ".py",
   "mimetype": "text/x-python",
   "name": "python",
   "nbconvert_exporter": "python",
   "pygments_lexer": "ipython3",
   "version": "3.9.15"
  }
 },
 "nbformat": 4,
 "nbformat_minor": 2
}
