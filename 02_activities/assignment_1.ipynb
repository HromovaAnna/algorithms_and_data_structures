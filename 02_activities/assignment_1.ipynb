{
 "cells": [
  {
   "cell_type": "code",
   "execution_count": 1,
   "metadata": {},
   "outputs": [
    {
     "name": "stdout",
     "output_type": "stream",
     "text": [
      "2\n"
     ]
    }
   ],
   "source": [
    "print((hash('Anna') % 3) + 1)"
   ]
  },
  {
   "cell_type": "code",
   "execution_count": 2,
   "metadata": {},
   "outputs": [],
   "source": [
    "# Definition for a binary tree node.\n",
    "class TreeNode:\n",
    "    def init(self, val=0, left=None, right=None):\n",
    "        self.val = val\n",
    "        self.left = left\n",
    "        self.right = right\n",
    "\n",
    "def bt_path(root: TreeNode) -> list[list[int]]:\n",
    "    paths = []  # List to store all root-to-leaf paths\n",
    "\n",
    "    def dfs(node, path):\n",
    "        if node:\n",
    "            # Add current node to the path\n",
    "            path.append(node.val)\n",
    "            # If this is a leaf node, add the path to paths list\n",
    "            if not node.left and not node.right:\n",
    "                paths.append(list(path))\n",
    "            else:\n",
    "                # Recurse on the left and right children\n",
    "                dfs(node.left, path)\n",
    "                dfs(node.right, path)\n",
    "            # Remove the current node from path to backtrack\n",
    "            path.pop()\n",
    "\n",
    "    dfs(root, [])\n",
    "    return paths"
   ]
  },
  {
   "cell_type": "markdown",
   "metadata": {},
   "source": [
    "Paraphrase the problem in your own words\n",
    "\n",
    "The task is to find all paths from the root to each leaf in a binary tree. Each path is represented as a list of node values from the root to a leaf.\n",
    "\n",
    "\n",
    "---\n",
    "\n",
    "Create 2 new examples\n",
    "\n",
    "Example 1\n",
    "\n",
    "Input: root = [4, 9, 1, None, 8, 6, 2]\n",
    "\n",
    "Output: [[4, 9, 8], [4, 1, 6], [4, 1, 2]]\n",
    "\n",
    "\n",
    "Example 2\n",
    "\n",
    "Input: root = [5, 3, 7, None, None, 6, None]\n",
    "\n",
    "Output: [[5, 3], [5, 7, 6]]\n"
   ]
  },
  {
   "cell_type": "markdown",
   "metadata": {},
   "source": []
  },
  {
   "cell_type": "code",
   "execution_count": 3,
   "metadata": {},
   "outputs": [],
   "source": [
    "# Definition for a binary tree node.\n",
    "class TreeNode:\n",
    "    def init(self, val=0, left=None, right=None):\n",
    "        self.val = val\n",
    "        self.left = left\n",
    "        self.right = right\n",
    "\n",
    "def bt_path(root: TreeNode) -> list[list[int]]:\n",
    "    paths = []  # List to store all root-to-leaf paths\n",
    "\n",
    "    def dfs(node, path):\n",
    "        if node:\n",
    "            path.append(node.val)  # Add current node to the path\n",
    "            # If this is a leaf node, add the path to paths list\n",
    "            if not node.left and not node.right:\n",
    "                paths.append(list(path))\n",
    "            else:\n",
    "                # Recurse on the left and right children\n",
    "                dfs(node.left, path)\n",
    "                dfs(node.right, path)\n",
    "            # Remove the current node from path to backtrack\n",
    "            path.pop()\n",
    "\n",
    "    dfs(root, [])\n",
    "    return paths"
   ]
  },
  {
   "cell_type": "markdown",
   "metadata": {},
   "source": [
    "Explain why your solution works\n",
    "\n",
    "This solution works by using Depth-First Search (DFS) to explore each path from the root to a leaf. When a leaf node is reached, the current path is saved as a list. DFS is then used to backtrack and explore other paths.\n",
    "\n",
    "\n",
    "---\n",
    "\n",
    "Explain the problem’s time and space complexity\n",
    "\n",
    "Time Complexity: O(N), where N is the number of nodes, because each node is visited once.\n",
    "\n",
    "Space Complexity: O(N), as additional memory is used to store paths from the root to each leaf.\n",
    "\n",
    "\n",
    "\n",
    "---\n",
    "\n",
    "Explain the thinking to an alternative solution\n",
    "\n",
    "An alternative solution is to use an iterative approach with a stack. In this approach, the tree nodes and their paths are stored in a stack. Each time a leaf is reached, the current path is recorded. The stack helps backtrack to explore other possible paths without recursion."
   ]
  }
 ],
 "metadata": {
  "kernelspec": {
   "display_name": "dsi_participant",
   "language": "python",
   "name": "python3"
  },
  "language_info": {
   "codemirror_mode": {
    "name": "ipython",
    "version": 3
   },
   "file_extension": ".py",
   "mimetype": "text/x-python",
   "name": "python",
   "nbconvert_exporter": "python",
   "pygments_lexer": "ipython3",
   "version": "3.9.15"
  }
 },
 "nbformat": 4,
 "nbformat_minor": 2
}
